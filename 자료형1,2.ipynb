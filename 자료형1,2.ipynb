{
 "cells": [
  {
   "cell_type": "code",
   "execution_count": 1,
   "metadata": {},
   "outputs": [
    {
     "name": "stdout",
     "output_type": "stream",
     "text": [
      "<class 'float'>\n"
     ]
    }
   ],
   "source": [
    "#변수 할당\n",
    "x= 3.3\n",
    "print(type(x))  #데이터 타입체크"
   ]
  },
  {
   "cell_type": "code",
   "execution_count": 9,
   "metadata": {},
   "outputs": [
    {
     "name": "stdout",
     "output_type": "stream",
     "text": [
      "1\n",
      "[2, 3, 4]\n",
      "[2, 3, 4]\n",
      "[2, 3, 4]\n",
      "[2, 3, 4]\n"
     ]
    }
   ],
   "source": [
    "#리스트 만들기\n",
    "li = [1,2,3,4,5]\n",
    "\n",
    "#인덱싱\n",
    "#0 1 2 3 4  \n",
    "#-5 -4 -3 -2 -1\n",
    "print(li[0])\n",
    "\n",
    "\n",
    "#슬라이싱\n",
    "#리스트 이름[시작 인덱스 번호 : 마지막 인덱스 번호]\n",
    "#(마지막먼호는 포함이 안됨), 포함하려면 [1,]처럼 비워놓기\n",
    "print(li[1:4])\n",
    "print(li[-4:4])\n",
    "print(li[-4:-1])\n",
    "print(li[1:-1]) "
   ]
  },
  {
   "cell_type": "code",
   "execution_count": 15,
   "metadata": {},
   "outputs": [
    {
     "name": "stdout",
     "output_type": "stream",
     "text": [
      "5\n"
     ]
    }
   ],
   "source": [
    "print(len(li))  # 길이"
   ]
  },
  {
   "cell_type": "code",
   "execution_count": 4,
   "metadata": {},
   "outputs": [
    {
     "name": "stdout",
     "output_type": "stream",
     "text": [
      "['사과', '감', '바나나', 1, 2, 3, 4]\n"
     ]
    }
   ],
   "source": [
    "#리스트 + 리스트\n",
    "li1 = ['사과','감','바나나']\n",
    "li2 = [1,2,3,4]\n",
    "print(li1 + li2)"
   ]
  },
  {
   "cell_type": "code",
   "execution_count": 11,
   "metadata": {},
   "outputs": [
    {
     "name": "stdout",
     "output_type": "stream",
     "text": [
      "['사과', '감', '바나나', '굴', [1, 2, 3, 4]]\n"
     ]
    }
   ],
   "source": [
    "# 리스트.append()\n",
    "li1 = ['사과','감','바나나','굴']\n",
    "li2 = [1,2,3,4]\n",
    "li1.append(li2)\n",
    "print(li1)"
   ]
  },
  {
   "cell_type": "code",
   "execution_count": 12,
   "metadata": {},
   "outputs": [
    {
     "name": "stdout",
     "output_type": "stream",
     "text": [
      "5\n"
     ]
    }
   ],
   "source": [
    "print(len(li1))"
   ]
  },
  {
   "cell_type": "code",
   "execution_count": 16,
   "metadata": {},
   "outputs": [
    {
     "data": {
      "text/plain": [
       "dict_values(['2020-01-01', '홍길동', '010-7411-7748'])"
      ]
     },
     "execution_count": 16,
     "metadata": {},
     "output_type": "execute_result"
    }
   ],
   "source": [
    "#dictionary\n",
    "data = {\n",
    "    '일자' : '2020-01-01',\n",
    "    '이름' : '홍길동',\n",
    "    '전번' : '010-7411-7748'\n",
    "}\n",
    "\n",
    "#키 확인\n",
    "data.keys()\n",
    "\n",
    "#값 확인\n",
    "data.values()"
   ]
  },
  {
   "cell_type": "code",
   "execution_count": 19,
   "metadata": {},
   "outputs": [
    {
     "data": {
      "text/plain": [
       "dict_items([('일자', '2020-01-01'), ('이름', '홍길동'), ('전번', '010-7411-7748')])"
      ]
     },
     "execution_count": 19,
     "metadata": {},
     "output_type": "execute_result"
    }
   ],
   "source": [
    "#키와 값 같이 확인\n",
    "data.items()"
   ]
  },
  {
   "cell_type": "code",
   "execution_count": 21,
   "metadata": {},
   "outputs": [
    {
     "data": {
      "text/plain": [
       "'홍길동'"
      ]
     },
     "execution_count": 21,
     "metadata": {},
     "output_type": "execute_result"
    }
   ],
   "source": [
    "#키로 해당하는 값 조회\n",
    "data['이름']"
   ]
  },
  {
   "cell_type": "code",
   "execution_count": 22,
   "metadata": {},
   "outputs": [
    {
     "data": {
      "text/plain": [
       "{'일자': '2020-01-01', '이름': '홍길동', '전번': '010-7411-7748', '나이': 20}"
      ]
     },
     "execution_count": 22,
     "metadata": {},
     "output_type": "execute_result"
    }
   ],
   "source": [
    "# dictionary에 키와 값 추가\n",
    "data['나이'] = 20\n",
    "data"
   ]
  }
 ],
 "metadata": {
  "kernelspec": {
   "display_name": "Python 3",
   "language": "python",
   "name": "python3"
  },
  "language_info": {
   "codemirror_mode": {
    "name": "ipython",
    "version": 3
   },
   "file_extension": ".py",
   "mimetype": "text/x-python",
   "name": "python",
   "nbconvert_exporter": "python",
   "pygments_lexer": "ipython3",
   "version": "3.8.5"
  }
 },
 "nbformat": 4,
 "nbformat_minor": 4
}
