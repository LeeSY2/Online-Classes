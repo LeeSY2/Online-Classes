{
 "cells": [
  {
   "cell_type": "code",
   "execution_count": null,
   "metadata": {},
   "outputs": [],
   "source": [
    "#<반복문>\n",
    "# for 변수 in 그룹 :\n",
    "#     작업내용\n",
    "\n",
    "# 반복문을 통해 그룹(리스트)에서 원소를 하나씩 꺼내어 작업\n",
    "# 반복문에 실행되는 범의는 띄어쓰기로 표시"
   ]
  },
  {
   "cell_type": "code",
   "execution_count": 1,
   "metadata": {
    "scrolled": true
   },
   "outputs": [
    {
     "name": "stdout",
     "output_type": "stream",
     "text": [
      "바나나\n",
      "딸기\n",
      "귤\n",
      "사과\n"
     ]
    }
   ],
   "source": [
    "fruits = ['바나나','딸기','귤','사과']\n",
    "\n",
    "#반복문으로 과일 이름 하나씩 출력\n",
    "for f in fruits:\\\n",
    "    print(f)          #들여쓰기 중요!! shift + tap / tap\n",
    "    "
   ]
  },
  {
   "cell_type": "code",
   "execution_count": 6,
   "metadata": {},
   "outputs": [
    {
     "name": "stdout",
     "output_type": "stream",
     "text": [
      "짝수\n"
     ]
    }
   ],
   "source": [
    "# <조건문>\n",
    "# if 조건1:\n",
    "#     조건이 True 일 경우 실행되는 코드\n",
    "\n",
    "# elif 조건2:\n",
    "#     조건이 False이면서 , 조건2가 True일 경우 실행되는 코드\n",
    "    \n",
    "# else :\n",
    "#     위 조건들이 모두 false 일때, 실행되는 코드\n",
    "\n",
    "# 조건에서 <,>,== 활용 가능\n",
    "# ex)a==b a와b가 같은가? 라는 뜻\n",
    "\n",
    "# 홀/짝을 판단하고 출력해보겠습니다\n",
    "# 2로 나누었을때 나머지가 0인경우 ->짝, 나머지가 1인경우->홀\n",
    "\n",
    "n = 20\n",
    "if n<1:\n",
    "    print('1 이상의 자연수를 입력하세요')\n",
    "elif n % 2 == 0:\n",
    "    print('짝수')\n",
    "else:\n",
    "    print('홀수')"
   ]
  },
  {
   "cell_type": "code",
   "execution_count": 1,
   "metadata": {},
   "outputs": [
    {
     "name": "stdout",
     "output_type": "stream",
     "text": [
      "A가게가 더 많은 종류가 있어\n"
     ]
    }
   ],
   "source": [
    "# > < 부등호 이용해 크기비교\n",
    "\n",
    "shop_A = ['apple', 'banana']\n",
    "shop_B = ['grape']\n",
    "\n",
    "if len(shop_A) > len(shop_B):\n",
    "    print('A가게가 더 많은 종류가 있어')\n",
    "elif len(shop_A) > len(shop_B):\n",
    "    print('B가게가 더 많은 종류가 있어')\n",
    "else:\n",
    "    print('A,B 둘다 같아')"
   ]
  },
  {
   "cell_type": "code",
   "execution_count": 2,
   "metadata": {},
   "outputs": [
    {
     "name": "stdout",
     "output_type": "stream",
     "text": [
      "A\n"
     ]
    }
   ],
   "source": [
    "# 어느 매장이 더많은 종류의 과일을 판매하나요?\n",
    "\n",
    "if len(shop_A) > len(shop_B):\n",
    "    print('A')\n",
    "elif len(shop_A) < len(shop_B):\n",
    "    print('B')\n",
    "else:\n",
    "    print('A=B')\n",
    "    "
   ]
  },
  {
   "cell_type": "code",
   "execution_count": 3,
   "metadata": {},
   "outputs": [
    {
     "data": {
      "text/plain": [
       "False"
      ]
     },
     "execution_count": 3,
     "metadata": {},
     "output_type": "execute_result"
    }
   ],
   "source": [
    "# '원소 in 그룹' 을 이용해 포함여부를  점검할 수 있음\n",
    "\n",
    "shop_A = ['apple', 'banana']\n",
    "'grape' in shop_A"
   ]
  },
  {
   "cell_type": "code",
   "execution_count": 5,
   "metadata": {},
   "outputs": [
    {
     "name": "stdout",
     "output_type": "stream",
     "text": [
      "포도 없어요\n"
     ]
    }
   ],
   "source": [
    "if 'grape' in shop_A:\n",
    "    print('포도 파네요')\n",
    "else:\n",
    "    print('포도 없어요')"
   ]
  },
  {
   "cell_type": "code",
   "execution_count": 6,
   "metadata": {},
   "outputs": [
    {
     "data": {
      "text/plain": [
       "True"
      ]
     },
     "execution_count": 6,
     "metadata": {},
     "output_type": "execute_result"
    }
   ],
   "source": [
    "# '원소 not in 그룹' 사용 하면 불포함 여부 점검 할 수있음\n",
    "\n",
    "'grape' not in shop_A"
   ]
  },
  {
   "cell_type": "code",
   "execution_count": 7,
   "metadata": {
    "scrolled": true
   },
   "outputs": [
    {
     "name": "stdout",
     "output_type": "stream",
     "text": [
      "A가 B에 포함된다\n"
     ]
    }
   ],
   "source": [
    "# == / in 기호 사용하여 같은지 여부 판단하기\n",
    "\n",
    "A = '태극기'\n",
    "B = '태극기가 바람에 펄럭인다'\n",
    "\n",
    "if A==B:\n",
    "    print('일치')\n",
    "elif A in B:\n",
    "    print('A가 B에 포함된다')\n",
    "else:\n",
    "    print('A와 B는 다르다')"
   ]
  },
  {
   "cell_type": "code",
   "execution_count": null,
   "metadata": {},
   "outputs": [],
   "source": [
    "함수 만들기\n",
    "\n",
    "def 함수 이름(변수1, 변수2,...):\n",
    "    실행내용1\n",
    "    샐행내용2\n",
    "    \n",
    "    return 실행결과\n"
   ]
  },
  {
   "cell_type": "code",
   "execution_count": 1,
   "metadata": {},
   "outputs": [
    {
     "name": "stdout",
     "output_type": "stream",
     "text": [
      "3\n"
     ]
    }
   ],
   "source": [
    "# 두 수를 곱한 결과 텍스트를 반혼하는 함수\n",
    "# 코드 실행 시 컴터가 gob()이라눈 명령어에 대해 알게됨\n",
    "# 코드에 이름을 붙이는 과정이지 실행하지는 않음\n",
    "\n",
    "def gob(a,b):\n",
    "    result = a+b\n",
    "    return result\n",
    "\n",
    "a = 1\n",
    "b = 2\n",
    "result = gob(a,b)\n",
    "print(result)"
   ]
  },
  {
   "cell_type": "code",
   "execution_count": 4,
   "metadata": {},
   "outputs": [
    {
     "name": "stdout",
     "output_type": "stream",
     "text": [
      "2X1 = 3\n",
      "2X2 = 4\n",
      "2X3 = 5\n",
      "2X4 = 6\n",
      "2X5 = 7\n",
      "2X6 = 8\n",
      "2X7 = 9\n",
      "2X8 = 10\n",
      "2X9 = 11\n",
      "**********\n",
      "3X1 = 4\n",
      "3X2 = 5\n",
      "3X3 = 6\n",
      "3X4 = 7\n",
      "3X5 = 8\n",
      "3X6 = 9\n",
      "3X7 = 10\n",
      "3X8 = 11\n",
      "3X9 = 12\n",
      "**********\n",
      "4X1 = 5\n",
      "4X2 = 6\n",
      "4X3 = 7\n",
      "4X4 = 8\n",
      "4X5 = 9\n",
      "4X6 = 10\n",
      "4X7 = 11\n",
      "4X8 = 12\n",
      "4X9 = 13\n",
      "**********\n",
      "5X1 = 6\n",
      "5X2 = 7\n",
      "5X3 = 8\n",
      "5X4 = 9\n",
      "5X5 = 10\n",
      "5X6 = 11\n",
      "5X7 = 12\n",
      "5X8 = 13\n",
      "5X9 = 14\n",
      "**********\n",
      "6X1 = 7\n",
      "6X2 = 8\n",
      "6X3 = 9\n",
      "6X4 = 10\n",
      "6X5 = 11\n",
      "6X6 = 12\n",
      "6X7 = 13\n",
      "6X8 = 14\n",
      "6X9 = 15\n",
      "**********\n",
      "7X1 = 8\n",
      "7X2 = 9\n",
      "7X3 = 10\n",
      "7X4 = 11\n",
      "7X5 = 12\n",
      "7X6 = 13\n",
      "7X7 = 14\n",
      "7X8 = 15\n",
      "7X9 = 16\n",
      "**********\n",
      "8X1 = 9\n",
      "8X2 = 10\n",
      "8X3 = 11\n",
      "8X4 = 12\n",
      "8X5 = 13\n",
      "8X6 = 14\n",
      "8X7 = 15\n",
      "8X8 = 16\n",
      "8X9 = 17\n",
      "**********\n",
      "9X1 = 10\n",
      "9X2 = 11\n",
      "9X3 = 12\n",
      "9X4 = 13\n",
      "9X5 = 14\n",
      "9X6 = 15\n",
      "9X7 = 16\n",
      "9X8 = 17\n",
      "9X9 = 18\n",
      "**********\n"
     ]
    }
   ],
   "source": [
    "# 구구단 출력하기\n",
    "# 반복문 포메팅 함수 활용\n",
    "# 2-9단 출력\n",
    "\n",
    "a = 5\n",
    "\n",
    "for a in [2,3,4,5,6,7,8,9]:\n",
    "\n",
    "    for b in [1,2,3,4,5,6,7,8,9]:\n",
    "       # print(a,b,gob(a,b))\n",
    "        sen = f\"{a}X{b} = {gob(a,b)}\"\n",
    "        print(sen)\n",
    "    print('**********')              #들여쓰기 주의 하기"
   ]
  },
  {
   "cell_type": "code",
   "execution_count": null,
   "metadata": {},
   "outputs": [],
   "source": []
  }
 ],
 "metadata": {
  "kernelspec": {
   "display_name": "Python 3",
   "language": "python",
   "name": "python3"
  },
  "language_info": {
   "codemirror_mode": {
    "name": "ipython",
    "version": 3
   },
   "file_extension": ".py",
   "mimetype": "text/x-python",
   "name": "python",
   "nbconvert_exporter": "python",
   "pygments_lexer": "ipython3",
   "version": "3.8.5"
  }
 },
 "nbformat": 4,
 "nbformat_minor": 4
}
