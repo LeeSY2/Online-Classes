{
 "cells": [
  {
   "cell_type": "markdown",
   "id": "3c3ed3b3",
   "metadata": {},
   "source": [
    "# 라이브러리 불러오기 & 데이터 불러오기"
   ]
  },
  {
   "cell_type": "code",
   "execution_count": 1,
   "id": "aa732295",
   "metadata": {},
   "outputs": [],
   "source": [
    "import os\n",
    "import pandas as pd"
   ]
  },
  {
   "cell_type": "code",
   "execution_count": 2,
   "id": "40110e36",
   "metadata": {},
   "outputs": [],
   "source": [
    "os.chdir(r'C:\\Users\\User\\LearningSpoons\\파이썬 머신러닝\\4-2 실습 파일\\data')\n",
    "data = pd.read_csv(\"bank-additional-full.csv\", sep=';') # ,가 아니라 :로 구분되어있으므로 구분자 넣어주기"
   ]
  },
  {
   "cell_type": "code",
   "execution_count": 3,
   "id": "8151796d",
   "metadata": {},
   "outputs": [
    {
     "data": {
      "text/html": [
       "<div>\n",
       "<style scoped>\n",
       "    .dataframe tbody tr th:only-of-type {\n",
       "        vertical-align: middle;\n",
       "    }\n",
       "\n",
       "    .dataframe tbody tr th {\n",
       "        vertical-align: top;\n",
       "    }\n",
       "\n",
       "    .dataframe thead th {\n",
       "        text-align: right;\n",
       "    }\n",
       "</style>\n",
       "<table border=\"1\" class=\"dataframe\">\n",
       "  <thead>\n",
       "    <tr style=\"text-align: right;\">\n",
       "      <th></th>\n",
       "      <th>age</th>\n",
       "      <th>job</th>\n",
       "      <th>marital</th>\n",
       "      <th>education</th>\n",
       "      <th>default</th>\n",
       "      <th>housing</th>\n",
       "      <th>loan</th>\n",
       "      <th>contact</th>\n",
       "      <th>month</th>\n",
       "      <th>day_of_week</th>\n",
       "      <th>...</th>\n",
       "      <th>campaign</th>\n",
       "      <th>pdays</th>\n",
       "      <th>previous</th>\n",
       "      <th>poutcome</th>\n",
       "      <th>emp.var.rate</th>\n",
       "      <th>cons.price.idx</th>\n",
       "      <th>cons.conf.idx</th>\n",
       "      <th>euribor3m</th>\n",
       "      <th>nr.employed</th>\n",
       "      <th>y</th>\n",
       "    </tr>\n",
       "  </thead>\n",
       "  <tbody>\n",
       "    <tr>\n",
       "      <th>0</th>\n",
       "      <td>56</td>\n",
       "      <td>housemaid</td>\n",
       "      <td>married</td>\n",
       "      <td>basic.4y</td>\n",
       "      <td>no</td>\n",
       "      <td>no</td>\n",
       "      <td>no</td>\n",
       "      <td>telephone</td>\n",
       "      <td>may</td>\n",
       "      <td>mon</td>\n",
       "      <td>...</td>\n",
       "      <td>1</td>\n",
       "      <td>999</td>\n",
       "      <td>0</td>\n",
       "      <td>nonexistent</td>\n",
       "      <td>1.1</td>\n",
       "      <td>93.994</td>\n",
       "      <td>-36.4</td>\n",
       "      <td>4.857</td>\n",
       "      <td>5191.0</td>\n",
       "      <td>no</td>\n",
       "    </tr>\n",
       "    <tr>\n",
       "      <th>1</th>\n",
       "      <td>57</td>\n",
       "      <td>services</td>\n",
       "      <td>married</td>\n",
       "      <td>high.school</td>\n",
       "      <td>unknown</td>\n",
       "      <td>no</td>\n",
       "      <td>no</td>\n",
       "      <td>telephone</td>\n",
       "      <td>may</td>\n",
       "      <td>mon</td>\n",
       "      <td>...</td>\n",
       "      <td>1</td>\n",
       "      <td>999</td>\n",
       "      <td>0</td>\n",
       "      <td>nonexistent</td>\n",
       "      <td>1.1</td>\n",
       "      <td>93.994</td>\n",
       "      <td>-36.4</td>\n",
       "      <td>4.857</td>\n",
       "      <td>5191.0</td>\n",
       "      <td>no</td>\n",
       "    </tr>\n",
       "    <tr>\n",
       "      <th>2</th>\n",
       "      <td>37</td>\n",
       "      <td>services</td>\n",
       "      <td>married</td>\n",
       "      <td>high.school</td>\n",
       "      <td>no</td>\n",
       "      <td>yes</td>\n",
       "      <td>no</td>\n",
       "      <td>telephone</td>\n",
       "      <td>may</td>\n",
       "      <td>mon</td>\n",
       "      <td>...</td>\n",
       "      <td>1</td>\n",
       "      <td>999</td>\n",
       "      <td>0</td>\n",
       "      <td>nonexistent</td>\n",
       "      <td>1.1</td>\n",
       "      <td>93.994</td>\n",
       "      <td>-36.4</td>\n",
       "      <td>4.857</td>\n",
       "      <td>5191.0</td>\n",
       "      <td>no</td>\n",
       "    </tr>\n",
       "    <tr>\n",
       "      <th>3</th>\n",
       "      <td>40</td>\n",
       "      <td>admin.</td>\n",
       "      <td>married</td>\n",
       "      <td>basic.6y</td>\n",
       "      <td>no</td>\n",
       "      <td>no</td>\n",
       "      <td>no</td>\n",
       "      <td>telephone</td>\n",
       "      <td>may</td>\n",
       "      <td>mon</td>\n",
       "      <td>...</td>\n",
       "      <td>1</td>\n",
       "      <td>999</td>\n",
       "      <td>0</td>\n",
       "      <td>nonexistent</td>\n",
       "      <td>1.1</td>\n",
       "      <td>93.994</td>\n",
       "      <td>-36.4</td>\n",
       "      <td>4.857</td>\n",
       "      <td>5191.0</td>\n",
       "      <td>no</td>\n",
       "    </tr>\n",
       "    <tr>\n",
       "      <th>4</th>\n",
       "      <td>56</td>\n",
       "      <td>services</td>\n",
       "      <td>married</td>\n",
       "      <td>high.school</td>\n",
       "      <td>no</td>\n",
       "      <td>no</td>\n",
       "      <td>yes</td>\n",
       "      <td>telephone</td>\n",
       "      <td>may</td>\n",
       "      <td>mon</td>\n",
       "      <td>...</td>\n",
       "      <td>1</td>\n",
       "      <td>999</td>\n",
       "      <td>0</td>\n",
       "      <td>nonexistent</td>\n",
       "      <td>1.1</td>\n",
       "      <td>93.994</td>\n",
       "      <td>-36.4</td>\n",
       "      <td>4.857</td>\n",
       "      <td>5191.0</td>\n",
       "      <td>no</td>\n",
       "    </tr>\n",
       "  </tbody>\n",
       "</table>\n",
       "<p>5 rows × 21 columns</p>\n",
       "</div>"
      ],
      "text/plain": [
       "   age        job  marital    education  default housing loan    contact  \\\n",
       "0   56  housemaid  married     basic.4y       no      no   no  telephone   \n",
       "1   57   services  married  high.school  unknown      no   no  telephone   \n",
       "2   37   services  married  high.school       no     yes   no  telephone   \n",
       "3   40     admin.  married     basic.6y       no      no   no  telephone   \n",
       "4   56   services  married  high.school       no      no  yes  telephone   \n",
       "\n",
       "  month day_of_week  ...  campaign  pdays  previous     poutcome emp.var.rate  \\\n",
       "0   may         mon  ...         1    999         0  nonexistent          1.1   \n",
       "1   may         mon  ...         1    999         0  nonexistent          1.1   \n",
       "2   may         mon  ...         1    999         0  nonexistent          1.1   \n",
       "3   may         mon  ...         1    999         0  nonexistent          1.1   \n",
       "4   may         mon  ...         1    999         0  nonexistent          1.1   \n",
       "\n",
       "   cons.price.idx  cons.conf.idx  euribor3m  nr.employed   y  \n",
       "0          93.994          -36.4      4.857       5191.0  no  \n",
       "1          93.994          -36.4      4.857       5191.0  no  \n",
       "2          93.994          -36.4      4.857       5191.0  no  \n",
       "3          93.994          -36.4      4.857       5191.0  no  \n",
       "4          93.994          -36.4      4.857       5191.0  no  \n",
       "\n",
       "[5 rows x 21 columns]"
      ]
     },
     "execution_count": 3,
     "metadata": {},
     "output_type": "execute_result"
    }
   ],
   "source": [
    "data.head()   "
   ]
  },
  {
   "cell_type": "code",
   "execution_count": 4,
   "id": "b1e5b30d",
   "metadata": {},
   "outputs": [
    {
     "data": {
      "text/plain": [
       "age                 int64\n",
       "job                object\n",
       "marital            object\n",
       "education          object\n",
       "default            object\n",
       "housing            object\n",
       "loan               object\n",
       "contact            object\n",
       "month              object\n",
       "day_of_week        object\n",
       "duration            int64\n",
       "campaign            int64\n",
       "pdays               int64\n",
       "previous            int64\n",
       "poutcome           object\n",
       "emp.var.rate      float64\n",
       "cons.price.idx    float64\n",
       "cons.conf.idx     float64\n",
       "euribor3m         float64\n",
       "nr.employed       float64\n",
       "y                  object\n",
       "dtype: object"
      ]
     },
     "execution_count": 4,
     "metadata": {},
     "output_type": "execute_result"
    }
   ],
   "source": [
    "# 범주형 변수 -> 원핫인코딩\n",
    "data.dtypes"
   ]
  },
  {
   "cell_type": "code",
   "execution_count": 5,
   "id": "5ebd9795",
   "metadata": {},
   "outputs": [],
   "source": [
    "data = pd.get_dummies(data, columns=['job', 'marital', 'education', 'default', 'housing', 'loan','contact', 'month', 'day_of_week', 'poutcome'])"
   ]
  },
  {
   "cell_type": "code",
   "execution_count": 6,
   "id": "1653c1a4",
   "metadata": {},
   "outputs": [],
   "source": [
    "# id 지정\n",
    "data['id'] = range(len(data))"
   ]
  },
  {
   "cell_type": "code",
   "execution_count": 7,
   "id": "3a0a7691",
   "metadata": {},
   "outputs": [
    {
     "data": {
      "text/plain": [
       "41188"
      ]
     },
     "execution_count": 7,
     "metadata": {},
     "output_type": "execute_result"
    }
   ],
   "source": [
    "len(data)"
   ]
  },
  {
   "cell_type": "code",
   "execution_count": 8,
   "id": "2eb97777",
   "metadata": {},
   "outputs": [],
   "source": [
    "# train & test split\n",
    "train = data.sample(30000, replace=False, random_state=2020).reset_index().drop(['index'], axis=1)\n",
    "test = data.loc[~ data['id'].isin(train['id']) ].reset_index().drop(['index'], axis=1)"
   ]
  },
  {
   "cell_type": "markdown",
   "id": "6c1169fb",
   "metadata": {},
   "source": [
    "# 랜덤포레스트 \n",
    "**의사결정나무에 배깅 기법을 활용한 기법**\n",
    "\n",
    "**특징**\n",
    "1. 해석이 어렵다\n",
    "2. 학습이 느리다.\n",
    "\n",
    "**파라미터**\n",
    "1. n_estimators : 몇개의 의사결정나무를 만들것인지\n",
    "2. min_samples_split : 각 의사결정나무에서 각 구간의 최소 샘플 수, 이보다 작으면 더이상 분리되지 않음\n"
   ]
  },
  {
   "cell_type": "code",
   "execution_count": 9,
   "id": "daec2a28",
   "metadata": {},
   "outputs": [],
   "source": [
    "from sklearn.ensemble import RandomForestClassifier\n",
    "\n",
    "rf = RandomForestClassifier(n_estimators = 500, min_samples_split = 10)"
   ]
  },
  {
   "cell_type": "code",
   "execution_count": 10,
   "id": "a2d1c623",
   "metadata": {},
   "outputs": [
    {
     "data": {
      "text/plain": [
       "Index(['age', 'duration', 'campaign', 'pdays', 'previous', 'emp.var.rate',\n",
       "       'cons.price.idx', 'cons.conf.idx', 'euribor3m', 'nr.employed', 'y',\n",
       "       'job_admin.', 'job_blue-collar', 'job_entrepreneur', 'job_housemaid',\n",
       "       'job_management', 'job_retired', 'job_self-employed', 'job_services',\n",
       "       'job_student', 'job_technician', 'job_unemployed', 'job_unknown',\n",
       "       'marital_divorced', 'marital_married', 'marital_single',\n",
       "       'marital_unknown', 'education_basic.4y', 'education_basic.6y',\n",
       "       'education_basic.9y', 'education_high.school', 'education_illiterate',\n",
       "       'education_professional.course', 'education_university.degree',\n",
       "       'education_unknown', 'default_no', 'default_unknown', 'default_yes',\n",
       "       'housing_no', 'housing_unknown', 'housing_yes', 'loan_no',\n",
       "       'loan_unknown', 'loan_yes', 'contact_cellular', 'contact_telephone',\n",
       "       'month_apr', 'month_aug', 'month_dec', 'month_jul', 'month_jun',\n",
       "       'month_mar', 'month_may', 'month_nov', 'month_oct', 'month_sep',\n",
       "       'day_of_week_fri', 'day_of_week_mon', 'day_of_week_thu',\n",
       "       'day_of_week_tue', 'day_of_week_wed', 'poutcome_failure',\n",
       "       'poutcome_nonexistent', 'poutcome_success', 'id'],\n",
       "      dtype='object')"
      ]
     },
     "execution_count": 10,
     "metadata": {},
     "output_type": "execute_result"
    }
   ],
   "source": [
    "train.columns"
   ]
  },
  {
   "cell_type": "code",
   "execution_count": 11,
   "id": "11393f6f",
   "metadata": {},
   "outputs": [],
   "source": [
    "## 학습에 활용할 input 변수를 지정합니다.\n",
    "input_var = ['age', 'duration', 'campaign', 'pdays', 'previous', 'emp.var.rate',\n",
    "       'cons.price.idx', 'cons.conf.idx', 'euribor3m', 'nr.employed',\n",
    "       'job_admin.', 'job_blue-collar', 'job_entrepreneur', 'job_housemaid',\n",
    "       'job_management', 'job_retired', 'job_self-employed', 'job_services',\n",
    "       'job_student', 'job_technician', 'job_unemployed', 'job_unknown',\n",
    "       'marital_divorced', 'marital_married', 'marital_single',\n",
    "       'marital_unknown', 'education_basic.4y', 'education_basic.6y',\n",
    "       'education_basic.9y', 'education_high.school', 'education_illiterate',\n",
    "       'education_professional.course', 'education_university.degree',\n",
    "       'education_unknown', 'default_no', 'default_unknown', 'default_yes',\n",
    "       'housing_no', 'housing_unknown', 'housing_yes', 'loan_no',\n",
    "       'loan_unknown', 'loan_yes', 'contact_cellular', 'contact_telephone',\n",
    "       'month_apr', 'month_aug', 'month_dec', 'month_jul', 'month_jun',\n",
    "       'month_mar', 'month_may', 'month_nov', 'month_oct', 'month_sep',\n",
    "       'day_of_week_fri', 'day_of_week_mon', 'day_of_week_thu',\n",
    "       'day_of_week_tue', 'day_of_week_wed', 'poutcome_failure',\n",
    "       'poutcome_nonexistent', 'poutcome_success']"
   ]
  },
  {
   "cell_type": "code",
   "execution_count": 12,
   "id": "1291f206",
   "metadata": {},
   "outputs": [
    {
     "data": {
      "text/plain": [
       "RandomForestClassifier(min_samples_split=10, n_estimators=500)"
      ]
     },
     "execution_count": 12,
     "metadata": {},
     "output_type": "execute_result"
    }
   ],
   "source": [
    "rf.fit(train[input_var],train['y'])"
   ]
  },
  {
   "cell_type": "code",
   "execution_count": 13,
   "id": "19f9b757",
   "metadata": {},
   "outputs": [],
   "source": [
    "predict = rf.predict(test[input_var])"
   ]
  },
  {
   "cell_type": "code",
   "execution_count": 14,
   "id": "67354b7b",
   "metadata": {},
   "outputs": [],
   "source": [
    "test['predict'] = predict"
   ]
  },
  {
   "cell_type": "code",
   "execution_count": 15,
   "id": "6f980eca",
   "metadata": {},
   "outputs": [
    {
     "data": {
      "text/plain": [
       "0.9129424383267787"
      ]
     },
     "execution_count": 15,
     "metadata": {},
     "output_type": "execute_result"
    }
   ],
   "source": [
    "(test['predict'] == test['y']).mean()  # 91% 예측 정확도"
   ]
  },
  {
   "cell_type": "markdown",
   "id": "b611f6a4",
   "metadata": {},
   "source": [
    "### 의사결정나무와 비교히기"
   ]
  },
  {
   "cell_type": "code",
   "execution_count": 16,
   "id": "c059f5a5",
   "metadata": {},
   "outputs": [],
   "source": [
    "from sklearn.tree import DecisionTreeClassifier\n",
    "\n",
    "dt = DecisionTreeClassifier(min_samples_split = 10)"
   ]
  },
  {
   "cell_type": "code",
   "execution_count": 17,
   "id": "2c8e16d6",
   "metadata": {},
   "outputs": [],
   "source": [
    "dt.fit(train[input_var], train['y'])\n",
    "test['pred'] = dt.predict(test[input_var])"
   ]
  },
  {
   "cell_type": "code",
   "execution_count": 18,
   "id": "371f890b",
   "metadata": {},
   "outputs": [
    {
     "data": {
      "text/plain": [
       "0.8980157311405077"
      ]
     },
     "execution_count": 18,
     "metadata": {},
     "output_type": "execute_result"
    }
   ],
   "source": [
    "(test['pred'] == test['y']).mean()  # 89% 예측 정확도  -> 랜더포레스트가 더 좋은 성능~!"
   ]
  },
  {
   "cell_type": "markdown",
   "id": "9b734385",
   "metadata": {},
   "source": [
    "### 변수중요도 뽑기"
   ]
  },
  {
   "cell_type": "code",
   "execution_count": 21,
   "id": "8d1cb8a8",
   "metadata": {},
   "outputs": [],
   "source": [
    "feature_imp = rf.feature_importances_  #변수 중요도"
   ]
  },
  {
   "cell_type": "code",
   "execution_count": 23,
   "id": "d1369c70",
   "metadata": {},
   "outputs": [],
   "source": [
    "imp_df = pd.DataFrame({'var':input_var, 'imp':feature_imp}) #알아보기 쉽게 데이터프레임화"
   ]
  },
  {
   "cell_type": "code",
   "execution_count": 24,
   "id": "676bb6f1",
   "metadata": {},
   "outputs": [
    {
     "data": {
      "text/html": [
       "<div>\n",
       "<style scoped>\n",
       "    .dataframe tbody tr th:only-of-type {\n",
       "        vertical-align: middle;\n",
       "    }\n",
       "\n",
       "    .dataframe tbody tr th {\n",
       "        vertical-align: top;\n",
       "    }\n",
       "\n",
       "    .dataframe thead th {\n",
       "        text-align: right;\n",
       "    }\n",
       "</style>\n",
       "<table border=\"1\" class=\"dataframe\">\n",
       "  <thead>\n",
       "    <tr style=\"text-align: right;\">\n",
       "      <th></th>\n",
       "      <th>var</th>\n",
       "      <th>imp</th>\n",
       "    </tr>\n",
       "  </thead>\n",
       "  <tbody>\n",
       "    <tr>\n",
       "      <th>1</th>\n",
       "      <td>duration</td>\n",
       "      <td>3.228120e-01</td>\n",
       "    </tr>\n",
       "    <tr>\n",
       "      <th>8</th>\n",
       "      <td>euribor3m</td>\n",
       "      <td>1.016986e-01</td>\n",
       "    </tr>\n",
       "    <tr>\n",
       "      <th>9</th>\n",
       "      <td>nr.employed</td>\n",
       "      <td>7.034835e-02</td>\n",
       "    </tr>\n",
       "    <tr>\n",
       "      <th>0</th>\n",
       "      <td>age</td>\n",
       "      <td>5.571651e-02</td>\n",
       "    </tr>\n",
       "    <tr>\n",
       "      <th>3</th>\n",
       "      <td>pdays</td>\n",
       "      <td>4.023540e-02</td>\n",
       "    </tr>\n",
       "    <tr>\n",
       "      <th>...</th>\n",
       "      <td>...</td>\n",
       "      <td>...</td>\n",
       "    </tr>\n",
       "    <tr>\n",
       "      <th>21</th>\n",
       "      <td>job_unknown</td>\n",
       "      <td>1.804760e-03</td>\n",
       "    </tr>\n",
       "    <tr>\n",
       "      <th>47</th>\n",
       "      <td>month_dec</td>\n",
       "      <td>9.244352e-04</td>\n",
       "    </tr>\n",
       "    <tr>\n",
       "      <th>25</th>\n",
       "      <td>marital_unknown</td>\n",
       "      <td>7.078411e-04</td>\n",
       "    </tr>\n",
       "    <tr>\n",
       "      <th>30</th>\n",
       "      <td>education_illiterate</td>\n",
       "      <td>1.175609e-04</td>\n",
       "    </tr>\n",
       "    <tr>\n",
       "      <th>36</th>\n",
       "      <td>default_yes</td>\n",
       "      <td>1.770267e-08</td>\n",
       "    </tr>\n",
       "  </tbody>\n",
       "</table>\n",
       "<p>63 rows × 2 columns</p>\n",
       "</div>"
      ],
      "text/plain": [
       "                     var           imp\n",
       "1               duration  3.228120e-01\n",
       "8              euribor3m  1.016986e-01\n",
       "9            nr.employed  7.034835e-02\n",
       "0                    age  5.571651e-02\n",
       "3                  pdays  4.023540e-02\n",
       "..                   ...           ...\n",
       "21           job_unknown  1.804760e-03\n",
       "47             month_dec  9.244352e-04\n",
       "25       marital_unknown  7.078411e-04\n",
       "30  education_illiterate  1.175609e-04\n",
       "36           default_yes  1.770267e-08\n",
       "\n",
       "[63 rows x 2 columns]"
      ]
     },
     "execution_count": 24,
     "metadata": {},
     "output_type": "execute_result"
    }
   ],
   "source": [
    "imp_df.sort_values(['imp'], ascending=False)  # 주요도가 큰 순서대로 정렬"
   ]
  },
  {
   "cell_type": "markdown",
   "id": "3da40f55",
   "metadata": {},
   "source": [
    "# XGBoost\n",
    "**특징**\n",
    "1. 해석이 어렵다.\n",
    "2. 랜덤포레스트에 비해 빠르고 성능이 좋은 경우가 많음\n",
    "\n",
    "**파라미터**\n",
    "- learning_rate : 얼마나 빠르게 학습할 것인가 ( 즉, 가중치를 얼마나 극단적으로 업데이트 시킬 것인가?, 일반적으로 0.1 ~ 0.5)\n",
    "- n_estimators :  몇 개의 의사결정나무를 만들 것인지( 가중치를 몇 번 업데이트 하는지 )\n"
   ]
  },
  {
   "cell_type": "code",
   "execution_count": 26,
   "id": "7c01a62d",
   "metadata": {},
   "outputs": [
    {
     "name": "stdout",
     "output_type": "stream",
     "text": [
      "Requirement already satisfied: XGBoost in c:\\users\\user\\anaconda3\\lib\\site-packages (1.5.2)\n",
      "Requirement already satisfied: scipy in c:\\users\\user\\anaconda3\\lib\\site-packages (from XGBoost) (1.7.1)\n",
      "Requirement already satisfied: numpy in c:\\users\\user\\anaconda3\\lib\\site-packages (from XGBoost) (1.20.3)\n"
     ]
    }
   ],
   "source": [
    "! pip install XGBoost"
   ]
  },
  {
   "cell_type": "code",
   "execution_count": 27,
   "id": "bcb5be1e",
   "metadata": {},
   "outputs": [],
   "source": [
    "from xgboost import XGBClassifier"
   ]
  },
  {
   "cell_type": "code",
   "execution_count": 28,
   "id": "fe2cc6a7",
   "metadata": {},
   "outputs": [],
   "source": [
    "xgb = XGBClassifier( n_estimators = 300, learning_rate =0.1 )"
   ]
  },
  {
   "cell_type": "code",
   "execution_count": 29,
   "id": "11ed29f5",
   "metadata": {},
   "outputs": [
    {
     "name": "stderr",
     "output_type": "stream",
     "text": [
      "C:\\Users\\User\\anaconda3\\lib\\site-packages\\xgboost\\sklearn.py:1224: UserWarning: The use of label encoder in XGBClassifier is deprecated and will be removed in a future release. To remove this warning, do the following: 1) Pass option use_label_encoder=False when constructing XGBClassifier object; and 2) Encode your labels (y) as integers starting with 0, i.e. 0, 1, 2, ..., [num_class - 1].\n",
      "  warnings.warn(label_encoder_deprecation_msg, UserWarning)\n"
     ]
    },
    {
     "name": "stdout",
     "output_type": "stream",
     "text": [
      "[17:13:38] WARNING: C:/Users/Administrator/workspace/xgboost-win64_release_1.5.1/src/learner.cc:1115: Starting in XGBoost 1.3.0, the default evaluation metric used with the objective 'binary:logistic' was changed from 'error' to 'logloss'. Explicitly set eval_metric if you'd like to restore the old behavior.\n"
     ]
    },
    {
     "data": {
      "text/plain": [
       "XGBClassifier(base_score=0.5, booster='gbtree', colsample_bylevel=1,\n",
       "              colsample_bynode=1, colsample_bytree=1, enable_categorical=False,\n",
       "              gamma=0, gpu_id=-1, importance_type=None,\n",
       "              interaction_constraints='', learning_rate=0.1, max_delta_step=0,\n",
       "              max_depth=6, min_child_weight=1, missing=nan,\n",
       "              monotone_constraints='()', n_estimators=300, n_jobs=8,\n",
       "              num_parallel_tree=1, predictor='auto', random_state=0,\n",
       "              reg_alpha=0, reg_lambda=1, scale_pos_weight=1, subsample=1,\n",
       "              tree_method='exact', validate_parameters=1, verbosity=None)"
      ]
     },
     "execution_count": 29,
     "metadata": {},
     "output_type": "execute_result"
    }
   ],
   "source": [
    "xgb.fit(train[input_var], train['y'])"
   ]
  },
  {
   "cell_type": "code",
   "execution_count": 30,
   "id": "104db93f",
   "metadata": {},
   "outputs": [],
   "source": [
    "predictions = xgb.predict(test[input_var]) # 에측"
   ]
  },
  {
   "cell_type": "code",
   "execution_count": 31,
   "id": "d24f7b8b",
   "metadata": {},
   "outputs": [],
   "source": [
    "test['pred'] = predictions # 데이터프레임에 컬럼저장"
   ]
  },
  {
   "cell_type": "code",
   "execution_count": 32,
   "id": "00a43781",
   "metadata": {},
   "outputs": [
    {
     "data": {
      "text/plain": [
       "0.9141043975688238"
      ]
     },
     "execution_count": 32,
     "metadata": {},
     "output_type": "execute_result"
    }
   ],
   "source": [
    "(test['pred'] == test['y']).mean()  # 예측 정확도 91%"
   ]
  },
  {
   "cell_type": "markdown",
   "id": "e91c38c5",
   "metadata": {},
   "source": [
    "최적의 n_estimators 찾기"
   ]
  },
  {
   "cell_type": "code",
   "execution_count": 33,
   "id": "fde90a96",
   "metadata": {},
   "outputs": [
    {
     "name": "stdout",
     "output_type": "stream",
     "text": [
      "[17:13:47] WARNING: C:/Users/Administrator/workspace/xgboost-win64_release_1.5.1/src/learner.cc:1115: Starting in XGBoost 1.3.0, the default evaluation metric used with the objective 'binary:logistic' was changed from 'error' to 'logloss'. Explicitly set eval_metric if you'd like to restore the old behavior.\n",
      "0.9135681086878799\n",
      "[17:13:49] WARNING: C:/Users/Administrator/workspace/xgboost-win64_release_1.5.1/src/learner.cc:1115: Starting in XGBoost 1.3.0, the default evaluation metric used with the objective 'binary:logistic' was changed from 'error' to 'logloss'. Explicitly set eval_metric if you'd like to restore the old behavior.\n",
      "0.9132999642474079\n",
      "[17:13:53] WARNING: C:/Users/Administrator/workspace/xgboost-win64_release_1.5.1/src/learner.cc:1115: Starting in XGBoost 1.3.0, the default evaluation metric used with the objective 'binary:logistic' was changed from 'error' to 'logloss'. Explicitly set eval_metric if you'd like to restore the old behavior.\n",
      "0.9141043975688238\n",
      "[17:13:59] WARNING: C:/Users/Administrator/workspace/xgboost-win64_release_1.5.1/src/learner.cc:1115: Starting in XGBoost 1.3.0, the default evaluation metric used with the objective 'binary:logistic' was changed from 'error' to 'logloss'. Explicitly set eval_metric if you'd like to restore the old behavior.\n",
      "0.9137468716481945\n",
      "[17:14:07] WARNING: C:/Users/Administrator/workspace/xgboost-win64_release_1.5.1/src/learner.cc:1115: Starting in XGBoost 1.3.0, the default evaluation metric used with the objective 'binary:logistic' was changed from 'error' to 'logloss'. Explicitly set eval_metric if you'd like to restore the old behavior.\n",
      "0.9128530568466213\n",
      "[17:14:17] WARNING: C:/Users/Administrator/workspace/xgboost-win64_release_1.5.1/src/learner.cc:1115: Starting in XGBoost 1.3.0, the default evaluation metric used with the objective 'binary:logistic' was changed from 'error' to 'logloss'. Explicitly set eval_metric if you'd like to restore the old behavior.\n",
      "0.9121380050053629\n",
      "[17:14:30] WARNING: C:/Users/Administrator/workspace/xgboost-win64_release_1.5.1/src/learner.cc:1115: Starting in XGBoost 1.3.0, the default evaluation metric used with the objective 'binary:logistic' was changed from 'error' to 'logloss'. Explicitly set eval_metric if you'd like to restore the old behavior.\n",
      "0.9113335716839471\n",
      "[17:14:48] WARNING: C:/Users/Administrator/workspace/xgboost-win64_release_1.5.1/src/learner.cc:1115: Starting in XGBoost 1.3.0, the default evaluation metric used with the objective 'binary:logistic' was changed from 'error' to 'logloss'. Explicitly set eval_metric if you'd like to restore the old behavior.\n",
      "0.9120486235252055\n",
      "[17:15:07] WARNING: C:/Users/Administrator/workspace/xgboost-win64_release_1.5.1/src/learner.cc:1115: Starting in XGBoost 1.3.0, the default evaluation metric used with the objective 'binary:logistic' was changed from 'error' to 'logloss'. Explicitly set eval_metric if you'd like to restore the old behavior.\n",
      "0.9117804790847337\n"
     ]
    }
   ],
   "source": [
    "for n in [100,200,300,400,500,600,700,800,900] :\n",
    "    \n",
    "    xgb = XGBClassifier( n_estimators = n, learning_rate = 0.1 )\n",
    "    xgb.fit(train[input_var], train['y'])\n",
    "    predictions = xgb.predict(test[input_var])\n",
    "    test['pred'] = predictions\n",
    "    print((test['pred'] == test['y']).mean() )"
   ]
  },
  {
   "cell_type": "markdown",
   "id": "5982bb34",
   "metadata": {},
   "source": [
    "최적의 n_estimators는 300 이다."
   ]
  },
  {
   "cell_type": "markdown",
   "id": "b3d55969",
   "metadata": {},
   "source": [
    "### 변수중요도 뽑기"
   ]
  },
  {
   "cell_type": "code",
   "execution_count": 34,
   "id": "1a1d2a53",
   "metadata": {},
   "outputs": [],
   "source": [
    "feature_imp = xgb.feature_importances_  #변수 중요도"
   ]
  },
  {
   "cell_type": "code",
   "execution_count": 35,
   "id": "5ad32d1c",
   "metadata": {},
   "outputs": [],
   "source": [
    "imp_df = pd.DataFrame({'var':input_var, 'imp':feature_imp}) #알아보기 쉽게 데이터프레임화"
   ]
  },
  {
   "cell_type": "code",
   "execution_count": 36,
   "id": "170e67cd",
   "metadata": {},
   "outputs": [
    {
     "data": {
      "text/html": [
       "<div>\n",
       "<style scoped>\n",
       "    .dataframe tbody tr th:only-of-type {\n",
       "        vertical-align: middle;\n",
       "    }\n",
       "\n",
       "    .dataframe tbody tr th {\n",
       "        vertical-align: top;\n",
       "    }\n",
       "\n",
       "    .dataframe thead th {\n",
       "        text-align: right;\n",
       "    }\n",
       "</style>\n",
       "<table border=\"1\" class=\"dataframe\">\n",
       "  <thead>\n",
       "    <tr style=\"text-align: right;\">\n",
       "      <th></th>\n",
       "      <th>var</th>\n",
       "      <th>imp</th>\n",
       "    </tr>\n",
       "  </thead>\n",
       "  <tbody>\n",
       "    <tr>\n",
       "      <th>9</th>\n",
       "      <td>nr.employed</td>\n",
       "      <td>0.321617</td>\n",
       "    </tr>\n",
       "    <tr>\n",
       "      <th>5</th>\n",
       "      <td>emp.var.rate</td>\n",
       "      <td>0.037563</td>\n",
       "    </tr>\n",
       "    <tr>\n",
       "      <th>62</th>\n",
       "      <td>poutcome_success</td>\n",
       "      <td>0.035317</td>\n",
       "    </tr>\n",
       "    <tr>\n",
       "      <th>1</th>\n",
       "      <td>duration</td>\n",
       "      <td>0.031028</td>\n",
       "    </tr>\n",
       "    <tr>\n",
       "      <th>53</th>\n",
       "      <td>month_oct</td>\n",
       "      <td>0.030291</td>\n",
       "    </tr>\n",
       "    <tr>\n",
       "      <th>...</th>\n",
       "      <td>...</td>\n",
       "      <td>...</td>\n",
       "    </tr>\n",
       "    <tr>\n",
       "      <th>30</th>\n",
       "      <td>education_illiterate</td>\n",
       "      <td>0.000000</td>\n",
       "    </tr>\n",
       "    <tr>\n",
       "      <th>36</th>\n",
       "      <td>default_yes</td>\n",
       "      <td>0.000000</td>\n",
       "    </tr>\n",
       "    <tr>\n",
       "      <th>44</th>\n",
       "      <td>contact_telephone</td>\n",
       "      <td>0.000000</td>\n",
       "    </tr>\n",
       "    <tr>\n",
       "      <th>41</th>\n",
       "      <td>loan_unknown</td>\n",
       "      <td>0.000000</td>\n",
       "    </tr>\n",
       "    <tr>\n",
       "      <th>61</th>\n",
       "      <td>poutcome_nonexistent</td>\n",
       "      <td>0.000000</td>\n",
       "    </tr>\n",
       "  </tbody>\n",
       "</table>\n",
       "<p>63 rows × 2 columns</p>\n",
       "</div>"
      ],
      "text/plain": [
       "                     var       imp\n",
       "9            nr.employed  0.321617\n",
       "5           emp.var.rate  0.037563\n",
       "62      poutcome_success  0.035317\n",
       "1               duration  0.031028\n",
       "53             month_oct  0.030291\n",
       "..                   ...       ...\n",
       "30  education_illiterate  0.000000\n",
       "36           default_yes  0.000000\n",
       "44     contact_telephone  0.000000\n",
       "41          loan_unknown  0.000000\n",
       "61  poutcome_nonexistent  0.000000\n",
       "\n",
       "[63 rows x 2 columns]"
      ]
     },
     "execution_count": 36,
     "metadata": {},
     "output_type": "execute_result"
    }
   ],
   "source": [
    "imp_df.sort_values(['imp'], ascending=False)  # 주요도가 큰 순서대로 정렬"
   ]
  },
  {
   "cell_type": "markdown",
   "id": "f5a9878d",
   "metadata": {},
   "source": [
    "Q. 모델마다 중요한 변수 순위가 다른데 뭘 선택해야하나?  \n",
    "A. Xgboost > 랜덤포레스트 > 의사결정나무 순으로 더 신뢰성 있다는 연구결과가 있음"
   ]
  }
 ],
 "metadata": {
  "kernelspec": {
   "display_name": "Python 3 (ipykernel)",
   "language": "python",
   "name": "python3"
  },
  "language_info": {
   "codemirror_mode": {
    "name": "ipython",
    "version": 3
   },
   "file_extension": ".py",
   "mimetype": "text/x-python",
   "name": "python",
   "nbconvert_exporter": "python",
   "pygments_lexer": "ipython3",
   "version": "3.9.7"
  }
 },
 "nbformat": 4,
 "nbformat_minor": 5
}
