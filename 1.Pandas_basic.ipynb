{
 "cells": [
  {
   "cell_type": "markdown",
   "metadata": {},
   "source": [
    "## 판다스?  pandas!"
   ]
  },
  {
   "cell_type": "markdown",
   "metadata": {},
   "source": [
    "### pandas  Vs 엑셀\n",
    "\n",
    "- pandas 장점: 가볍고, 빠르다. --> 대용량 파일 작업 자유롭게 가능.\n",
    "- 엑셀 장점: 모든 데이터가 눈에 보인다.  --> 눈으로 볼 수 있는 데이터라면..  만약 데이터가 많아서 직접 보기 어렵다면..?\n",
    "    "
   ]
  },
  {
   "cell_type": "markdown",
   "metadata": {},
   "source": [
    "### pandas 구조\n",
    "- DataFrame: 표 형태\n",
    "    - index: DB Key 개념.  엑셀에서는 보통 첫 번째 열에 배치하는 데이터(vlookup 등에 활용  cf. hlookup..?)\n",
    "    - columns : 하나의 속성을 가진 데이터의 집합   ----> index + column 하나  로 나누어 살펴 볼 수 있음\n",
    "- Series:  하나의 속성을 가진 데이터 집합.(DataFrame 에서 하나의 열 데이터)\n",
    "       \n",
    "      "
   ]
  },
  {
   "cell_type": "markdown",
   "metadata": {},
   "source": [
    "## 1. pandas 불러오기\n",
    "\n",
    "`import 라이브러리`    명령을 통해 라이브러리를 불러오며,    \n",
    "뒤에  `as 줄임말`   이라는 명령을 통해  `줄임말`로 간단하게 이름을 변경하여 사용할 수도 있습니다. "
   ]
  },
  {
   "cell_type": "code",
   "execution_count": null,
   "metadata": {},
   "outputs": [],
   "source": [
    "# 판다스를 사용하기 위해 라이브러리를 불러옵니다. \n",
    "import pandas as pd      # \"판다스  라는 라이브러리를 사용할께.  이름은.. pd 라고 짧게 부를께\" 라는 의미입니다."
   ]
  },
  {
   "cell_type": "code",
   "execution_count": null,
   "metadata": {},
   "outputs": [],
   "source": [
    "# 만약 에러가 난다면.. 라이브러리를 설치해주세요. \n",
    "# !pip install pandas     <---- 주석 해제하고 실행"
   ]
  },
  {
   "cell_type": "markdown",
   "metadata": {},
   "source": [
    "## 2. 데이터 불러오기"
   ]
  },
  {
   "cell_type": "markdown",
   "metadata": {},
   "source": [
    "pd.read_excel('`파일경로`+파일명.xlsx')    \n",
    "pd.read_csv('`파일경로`+파일명.csv')   \n",
    "\n",
    "`파일경로`는 절대경로와 상대경로 두 가지 방법이 있습니다.  \n",
    "- 절대경로: \"c:/폴더1/폴더2/파일명.확장자\"  처럼 c: 부터 지정하는 방법\n",
    "- 상대경로: \"`./`폴더3/파일명.확장자\"  처럼 현재위치(쥬피터노트북 파일 위치)를 기준으로 지정하는 방법,   \n",
    "(`./` 은 \"현재위치\" 라는 의미입니다)\n",
    "       "
   ]
  },
  {
   "cell_type": "code",
   "execution_count": null,
   "metadata": {},
   "outputs": [],
   "source": [
    "# read_excel() 명령을 통해 엑셀 파일을 불러오겠습니다. \n",
    "# 엑셀파일에서 불러온 데이터프레임 자료를 temp 라는 이름으로 지정합니다. \n",
    "temp = pd.read_excel('./data/exam.xlsx')   "
   ]
  },
  {
   "cell_type": "code",
   "execution_count": null,
   "metadata": {},
   "outputs": [],
   "source": [
    "# 데이터 프레임은 가로, 인덱스(여기에서는 0, 1, 2),  세로, 컬럼(여기에서는 번호, 국어, 영어, 수학)에 따라 데이터를 가집니다. \n",
    "temp"
   ]
  },
  {
   "cell_type": "code",
   "execution_count": null,
   "metadata": {},
   "outputs": [],
   "source": [
    "# head() 를 이용해 상단의 데이터를 살펴볼 수 있습니다. \n",
    "temp.head()"
   ]
  },
  {
   "cell_type": "code",
   "execution_count": null,
   "metadata": {},
   "outputs": [],
   "source": [
    "# info() 를 이용해 인덱스와 컬럼의 데이터 개수/종류 를 확인할 수 있습니다. \n",
    "temp.info()"
   ]
  },
  {
   "cell_type": "code",
   "execution_count": null,
   "metadata": {},
   "outputs": [],
   "source": [
    "# describe() 를 이용해, 수치형 데이터(int, float)가 들어있는 컬럼의 기초통계량(개수, 평균, 표준편차, 사분위 등)을 확인할 수 있습니다. \n",
    "temp.describe()"
   ]
  },
  {
   "cell_type": "markdown",
   "metadata": {},
   "source": [
    "- 데이터를 불러들인 뒤에는, `head()`, `info()`, `describe()` 명령을 통해 데이터를 살펴보는 것이 좋습니다. "
   ]
  },
  {
   "cell_type": "markdown",
   "metadata": {},
   "source": [
    "Q) '번호' 컬럼에 들어있는 1번, 2번, 3번 값을 인덱스로 활용하고 싶어요\n",
    "- set_index()"
   ]
  },
  {
   "cell_type": "code",
   "execution_count": null,
   "metadata": {},
   "outputs": [],
   "source": [
    "# set_index() 명령을 이용해  컬럼 --> 인덱스 전환을 할 수 있습니다. \n",
    "data = temp.set_index('번호')\n",
    "data.head()"
   ]
  },
  {
   "cell_type": "markdown",
   "metadata": {},
   "source": [
    "Q) 엑셀 파일을 읽어올때, 미리 인덱스 지정할 수 있을까??\n",
    "\n",
    "- pd.read_excel('파일명', index_col = `컬럼정보` )     \n",
    "- `컬럼정보`  에는  컬럼번호(0부터 시작) or 컬럼명 지정할 수 있음"
   ]
  },
  {
   "cell_type": "code",
   "execution_count": null,
   "metadata": {},
   "outputs": [],
   "source": [
    "# 파일 데이터 불러들일때, index_col 옵션을 통해 인덱스 컬럼 미리 지정하기할 수 있습니다. \n",
    "temp2 = pd.read_excel('./data/exam.xlsx', index_col = 0)    # index_col = '번호' 로 지정할 수도 있습니다(컬럼명 활용)\n",
    "temp2.head()"
   ]
  },
  {
   "cell_type": "markdown",
   "metadata": {},
   "source": [
    "## 3. 데이터 선택하기"
   ]
  },
  {
   "cell_type": "markdown",
   "metadata": {},
   "source": [
    "### 3.1 셀 선택하기"
   ]
  },
  {
   "cell_type": "markdown",
   "metadata": {},
   "source": [
    "df.`iloc`[ 로우, 컬럼 ] : 인덱스번호로 선택하기\n",
    "\n",
    "df.`loc`[ 로우 , 컬럼 ] : 이름으로 선택하기"
   ]
  },
  {
   "cell_type": "code",
   "execution_count": null,
   "metadata": {},
   "outputs": [],
   "source": [
    "data"
   ]
  },
  {
   "cell_type": "code",
   "execution_count": null,
   "metadata": {},
   "outputs": [],
   "source": [
    "# iloc[행번호,열번호]을 통해 특정 행,열 데이터를 선택할 수 있습니다. \n",
    "data.iloc[0,2]"
   ]
  },
  {
   "cell_type": "code",
   "execution_count": null,
   "metadata": {
    "scrolled": true
   },
   "outputs": [],
   "source": [
    "# loc[행번호,열번호]을 통해 특정 행,열 데이터를 선택할 수 있습니다. 행/열 이름으로 선택하기. \n",
    "data.loc['1번','수학']"
   ]
  },
  {
   "cell_type": "code",
   "execution_count": null,
   "metadata": {},
   "outputs": [],
   "source": [
    "# 이번에는 loc[ ], iloc[ ]  두 방법을 이용하여 3번의 영어 점수를 출력해보겠습니다. \n",
    "print(data.loc['3번','영어'])\n",
    "print(data.iloc[2, 1])"
   ]
  },
  {
   "cell_type": "code",
   "execution_count": null,
   "metadata": {},
   "outputs": [],
   "source": [
    "# 실습) 1번 국어 점수 선택하기\n",
    "# print(data.loc[    ,    ])\n",
    "# print(data.iloc[  , ])"
   ]
  },
  {
   "cell_type": "markdown",
   "metadata": {},
   "source": [
    "### 복수의 셀을 선택할 경우\n",
    "\n",
    "- df.loc [ `인덱스명` , `컬럼명` ]\n",
    "\n",
    "- df.iloc[ `인덱스번호` , `컬럼번호` ]\n",
    "\n",
    "`인덱스/컬럼 정보`  에   `[조건1, 조건2, ...조건3]` 리스트 형태로 여러개 입력 or,   `시작:종료` 형태로 범위 지정 가능"
   ]
  },
  {
   "cell_type": "code",
   "execution_count": null,
   "metadata": {},
   "outputs": [],
   "source": [
    "# 1번 학생의 국어/영어 점수를 조회해 볼까요?   컬럼명 지정시, 리스트 형태로 국어, 영어 컬럼을 지정해보겠습니다. \n",
    "data.loc['1번', ['국어','영어']]"
   ]
  },
  {
   "cell_type": "code",
   "execution_count": null,
   "metadata": {},
   "outputs": [],
   "source": [
    "# 이번에는 1번, 2번 학생의  수학 점수를 조회해보겠습니다. \n",
    "data.loc[ ['1번','2번'] , '수학']"
   ]
  },
  {
   "cell_type": "code",
   "execution_count": null,
   "metadata": {},
   "outputs": [],
   "source": [
    "# 리스트의 슬라이싱 기호 `:` 를 이용해 특정 범위를 지정할 수도 있습니다. \n",
    "# 1번 학생  '영어' 부터 끝까지 점수 조회해볼께요\n",
    "data.loc['1번', '영어': ]"
   ]
  },
  {
   "cell_type": "markdown",
   "metadata": {},
   "source": [
    "### 3.2. 컬럼 선택하기"
   ]
  },
  {
   "cell_type": "markdown",
   "metadata": {},
   "source": [
    "하나의 컬럼을 전체 선택하는 data.loc[ : , `컬럼명`] 은 아래와 같이 줄여서 사용할 수도 있습니다. \n",
    "- data.컬럼명\n",
    "- data[`'컬럼명'`]"
   ]
  },
  {
   "cell_type": "code",
   "execution_count": null,
   "metadata": {},
   "outputs": [],
   "source": [
    "# loc[인덱스, 컬럼] 를 이용해모든 학생들의 수학 점수를 선택해보겠습니다. \n",
    "data.loc[ : , '수학']"
   ]
  },
  {
   "cell_type": "code",
   "execution_count": null,
   "metadata": {},
   "outputs": [],
   "source": [
    "# 데이터프레임[컬럼명]  으로 하나의 컬럼을 지정할 수도 있습니다. \n",
    "data['수학']"
   ]
  },
  {
   "cell_type": "code",
   "execution_count": null,
   "metadata": {},
   "outputs": [],
   "source": [
    "# 실습)  영어 점수 선택하기\n",
    "\n",
    "## "
   ]
  },
  {
   "cell_type": "markdown",
   "metadata": {},
   "source": [
    "여러개의 컬럼을 선택할 경우에는 원하는 컬럼을 순서대로 리스트로 만들어서 지정하면 됩니다.  \n",
    "data[ `['컬럼명1', '컬럼명2','컬럼명3',...'컬럼명' ]` ]"
   ]
  },
  {
   "cell_type": "code",
   "execution_count": null,
   "metadata": {},
   "outputs": [],
   "source": [
    "# 수학과 영어 컬럼을 선택해보겠습니다. \n",
    "data[ ['수학','영어'] ]"
   ]
  },
  {
   "cell_type": "code",
   "execution_count": null,
   "metadata": {},
   "outputs": [],
   "source": [
    "# 컬럼 순서를 내가 원하는 대로 변경하여 선택할 수도 있습니다. \n",
    "data[  ['수학','영어','국어']  ]"
   ]
  },
  {
   "cell_type": "code",
   "execution_count": null,
   "metadata": {},
   "outputs": [],
   "source": [
    "# 실습) 수학, 영어 컬럼 순으로 데이터 선택하기\n",
    "\n",
    "# data[        ]"
   ]
  },
  {
   "cell_type": "markdown",
   "metadata": {},
   "source": [
    "### 3.3. 특정 조건 데이터 선택하기"
   ]
  },
  {
   "cell_type": "markdown",
   "metadata": {},
   "source": [
    "#### pd[ `condition` ]    --->  True 인  데이터만 출력됨\n",
    "\n",
    "- `conditon` : True / False 로 구성된 리스트 / 시리즈  "
   ]
  },
  {
   "cell_type": "code",
   "execution_count": null,
   "metadata": {
    "scrolled": true
   },
   "outputs": [],
   "source": [
    "data"
   ]
  },
  {
   "cell_type": "code",
   "execution_count": null,
   "metadata": {
    "scrolled": true
   },
   "outputs": [],
   "source": [
    "# 특정 조건 만족 여부 판단하는 비교 연산자(>, <, == ) 를 사용할 수 있습니다. \n",
    "# 수학 컬럼이 80보다 적은 경우를 살펴보겠습니다.  결과는 True / False 값을 가진 시리즈 형태입니다. \n",
    "cond = data['수학'] < 80\n",
    "cond"
   ]
  },
  {
   "cell_type": "code",
   "execution_count": null,
   "metadata": {},
   "outputs": [],
   "source": [
    "# True / False 로 된 시리즈나 리스트를 이용해,  True 에 해당하는 행만 선택할 수 있습니다. \n",
    "# 수학컬럼이 80보다 작다는 조건에 True 가 나왔던 1번, 2번에 해당하는 데이터만 조회할 수 있습니다. \n",
    "cond = data['수학'] < 80\n",
    "data[ cond ]"
   ]
  },
  {
   "cell_type": "code",
   "execution_count": null,
   "metadata": {},
   "outputs": [],
   "source": [
    "# 비교연산자를 이용하지 않고, 직접 True/False 값을 가진 리스트를 만들어 조건으로 이용해도 좋습니다. \n",
    "# 여기서 주의해야 할 점은,  데이터프레임의 행 개수와,  리스트의 원소 개수가 동일해야 한다는 점입니다. \n",
    "cond = [True, False, True]    # data['영어'] >  80\n",
    "data[cond]"
   ]
  },
  {
   "cell_type": "markdown",
   "metadata": {},
   "source": [
    "### ※ 여러개의 조건 만들기   \n",
    "여러 개의 조건으로 선택할 수도 있습니다. \n",
    "조 건을 모두 만족해야 하는 경우(`&`),  하나라도 만족하면 되는 경우(`|`)가 있습니다. \n",
    "\n",
    "\n",
    "#### `&` (shift + 7)  ==>  \"and\", 모두 만족하면 True\n",
    " - True  `&` True = True\n",
    " - True  `&` False = False\n",
    " - False `&` False = False\n",
    " \n",
    "\n",
    "#### `|` (shift + 역슬러시)  ==>  \"or\", 하나만 만족하면 True\n",
    " - True  `|` True  = True      \n",
    " - False `|` False = False\n",
    " - True  `|` False = True\n"
   ]
  },
  {
   "cell_type": "code",
   "execution_count": null,
   "metadata": {},
   "outputs": [],
   "source": [
    "# 영어나 수학 둘 중 하나라도 80 넘는 경우를 찾아보겠습니다. \n",
    "cond3 = (data['영어'] > 80)\n",
    "cond4 = (data['수학'] > 80)\n",
    "\n",
    "data[ cond3 | cond4]    # cond3 이 True 이거나  cond4 가 True  --> 둘 중 하나라도 True 이면  True"
   ]
  },
  {
   "cell_type": "code",
   "execution_count": null,
   "metadata": {},
   "outputs": [],
   "source": [
    "# 영어, 수학이 모두 80 넘는 경우를 찾아보겠습니다. \n",
    "cond3 = (data['영어'] > 80)\n",
    "cond4 = (data['수학'] > 80)\n",
    "\n",
    "cond = cond3 & cond4\n",
    "data[ cond ]"
   ]
  },
  {
   "cell_type": "code",
   "execution_count": null,
   "metadata": {},
   "outputs": [],
   "source": [
    "data"
   ]
  },
  {
   "cell_type": "code",
   "execution_count": null,
   "metadata": {},
   "outputs": [],
   "source": [
    "# 영어점수가 70 이상, 수학점수가 70점 이상, 수학점수가 90점 미만 인 조건을 모두 만족하는 데이터를 찾아보겠습니다. \n",
    "cond = (data['영어'] >= 70)  & (data['수학'] >= 70)  & (data['수학'] < 90) \n",
    "data[ cond ]"
   ]
  },
  {
   "cell_type": "code",
   "execution_count": null,
   "metadata": {},
   "outputs": [],
   "source": [
    "# 코드가 옆으로 길어질 때에는, \\(역슬러시)를 이용하여 코드 중간에 줄바꿈을 할 수 도 있습니다. \n",
    "# 코드 내용을 읽는 것이 쉬워지고, 이후 조건을 변경하는 것도 용이해집니다. \n",
    "# \\(역슬러시) 는  줄이 바뀌어도 코드는 연결된다는 것을 의미합니다\n",
    "\n",
    "cond = (data['영어'] >= 70) \\\n",
    "    & (data['수학'] >= 70) \\\n",
    "     & (data['수학'] < 90) \n",
    "\n",
    "data[ cond ]"
   ]
  },
  {
   "cell_type": "code",
   "execution_count": null,
   "metadata": {},
   "outputs": [],
   "source": [
    "# 실습)  국어 점수, 영어점수 컬럼 선택하기\n",
    "# score_Korean = \n",
    "# score_English = "
   ]
  },
  {
   "cell_type": "code",
   "execution_count": null,
   "metadata": {},
   "outputs": [],
   "source": []
  },
  {
   "cell_type": "code",
   "execution_count": null,
   "metadata": {},
   "outputs": [],
   "source": [
    "# 실습) 국어와 영어 모두 80 넘는 경우 (and) 조건\n",
    "\n",
    "# cond_first  =  ( data[ ]  >       )\n",
    "# cond_second =  ( data[ ]  >     )\n",
    "\n",
    "# cond = cond_first   &   cond_second\n",
    "# data[cond]"
   ]
  },
  {
   "cell_type": "code",
   "execution_count": null,
   "metadata": {},
   "outputs": [],
   "source": [
    "# 실습) 국어와 영어 둘 중 하나라도 80 넘는 경우(or 조건)\n",
    "\n",
    "# cond_first  =  (  )\n",
    "# cond_second = (    )\n",
    "\n",
    "\n",
    "# cond = cond_first     |   cond_second\n",
    "\n",
    "# data[cond]"
   ]
  },
  {
   "cell_type": "markdown",
   "metadata": {},
   "source": [
    "## 4. index / columns"
   ]
  },
  {
   "cell_type": "code",
   "execution_count": null,
   "metadata": {},
   "outputs": [],
   "source": [
    "# index 를 이용해 현재 인덱스 값을 확인할 수 있습니다. \n",
    "data.index"
   ]
  },
  {
   "cell_type": "code",
   "execution_count": null,
   "metadata": {},
   "outputs": [],
   "source": [
    "# 리스트 형태를 이용해 인덱스를 새로 입력할 수 있습니다. \n",
    "data.index = ['가반', '나반', '다반']"
   ]
  },
  {
   "cell_type": "code",
   "execution_count": null,
   "metadata": {
    "scrolled": true
   },
   "outputs": [],
   "source": [
    "data"
   ]
  },
  {
   "cell_type": "code",
   "execution_count": null,
   "metadata": {},
   "outputs": [],
   "source": [
    "# columns 를 이용해 현재 컬럼명을 확인할 수 있습니다. \n",
    "data.columns "
   ]
  },
  {
   "cell_type": "code",
   "execution_count": null,
   "metadata": {},
   "outputs": [],
   "source": [
    "# 리스트 형태를 이용해 컬럼명을 새로 입력할 수 있습니다. \n",
    "data.columns = ['Korean','English', 'Math']"
   ]
  },
  {
   "cell_type": "code",
   "execution_count": null,
   "metadata": {},
   "outputs": [],
   "source": [
    "data"
   ]
  },
  {
   "cell_type": "code",
   "execution_count": null,
   "metadata": {},
   "outputs": [],
   "source": [
    "# reset_index() 를 이용해 현재 인덱스를 초기화하여 0부터 시작하는 정수로 변경할 수 있습니다. \n",
    "# reset_index() 의 기본 값은 drop = False 로, 현재 인덱스에 있는 값을 컬럼으로 변경할 수 있습니다. \n",
    "# reset_index(drop = True) 명령어를 이용하면 현재 인덱스에 있는 값을 컬럼으로 변경하지 않으면서 인덱스를 초기화 할 수 있습니다. \n",
    "data.reset_index()"
   ]
  }
 ],
 "metadata": {
  "kernelspec": {
   "display_name": "Python 3",
   "language": "python",
   "name": "python3"
  },
  "language_info": {
   "codemirror_mode": {
    "name": "ipython",
    "version": 3
   },
   "file_extension": ".py",
   "mimetype": "text/x-python",
   "name": "python",
   "nbconvert_exporter": "python",
   "pygments_lexer": "ipython3",
   "version": "3.7.4"
  }
 },
 "nbformat": 4,
 "nbformat_minor": 2
}
